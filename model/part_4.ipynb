{
 "cells": [
  {
   "cell_type": "markdown",
   "metadata": {},
   "source": [
    "<h1 style='color:purple' align='center'>Data Science Regression Project: Predicting Land Prices in Colombo</h1>"
   ]
  },
  {
   "cell_type": "markdown",
   "metadata": {},
   "source": [
    "Dataset is downloaded from here: https://www.kaggle.com/datasets/ruchiraayeshmantha/land-prices-of-colombo-district?resource=download"
   ]
  },
  {
   "cell_type": "markdown",
   "metadata": {},
   "source": [
    "**Usages for data generations**"
   ]
  },
  {
   "cell_type": "code",
   "execution_count": 1,
   "metadata": {
    "is_executing": true
   },
   "outputs": [],
   "source": [
    "switch_dict = {\n",
    "    'Agricultural': 1,\n",
    "    'Commercial': 2,\n",
    "    'Residential': 3,\n",
    "    'Other': 4\n",
    "}"
   ]
  },
  {
   "cell_type": "code",
   "execution_count": 2,
   "metadata": {},
   "outputs": [],
   "source": [
    "import pandas as pd\n",
    "import numpy as np\n",
    "from matplotlib import pyplot as plt\n",
    "%matplotlib inline\n",
    "import matplotlib\n",
    "import pandas as pd\n",
    "import seaborn as sns\n",
    "import matplotlib.pyplot as plt\n",
    "matplotlib.rcParams[\"figure.figsize\"] = (20,10)\n",
    "pd.reset_option('display.float_format')\n",
    "import requests\n"
   ]
  },
  {
   "cell_type": "markdown",
   "metadata": {},
   "source": [
    "<h2 style='color:blue'>Data Load: Load Colombo land prices into a dataframe</h2>"
   ]
  },
  {
   "cell_type": "code",
   "execution_count": 3,
   "metadata": {
    "scrolled": true
   },
   "outputs": [
    {
     "data": {
      "text/html": [
       "<div>\n",
       "<style scoped>\n",
       "    .dataframe tbody tr th:only-of-type {\n",
       "        vertical-align: middle;\n",
       "    }\n",
       "\n",
       "    .dataframe tbody tr th {\n",
       "        vertical-align: top;\n",
       "    }\n",
       "\n",
       "    .dataframe thead th {\n",
       "        text-align: right;\n",
       "    }\n",
       "</style>\n",
       "<table border=\"1\" class=\"dataframe\">\n",
       "  <thead>\n",
       "    <tr style=\"text-align: right;\">\n",
       "      <th></th>\n",
       "      <th>longitude</th>\n",
       "      <th>latitude</th>\n",
       "      <th>Price per Perch</th>\n",
       "      <th>Agricultural</th>\n",
       "      <th>Commercial</th>\n",
       "      <th>Residential</th>\n",
       "      <th>Other</th>\n",
       "      <th>Address</th>\n",
       "      <th>Price_Scale</th>\n",
       "      <th>Mentioned Price(Rs)</th>\n",
       "      <th>...</th>\n",
       "      <th>police_mdist</th>\n",
       "      <th>post_office_count</th>\n",
       "      <th>post_office_mdist</th>\n",
       "      <th>pharmacy_count</th>\n",
       "      <th>pharmacy_mdist</th>\n",
       "      <th>movie_theater_count</th>\n",
       "      <th>movie_theater_mdist</th>\n",
       "      <th>library_count</th>\n",
       "      <th>library_mdist</th>\n",
       "      <th>Air</th>\n",
       "    </tr>\n",
       "  </thead>\n",
       "  <tbody>\n",
       "    <tr>\n",
       "      <th>0</th>\n",
       "      <td>79.980418</td>\n",
       "      <td>6.917638</td>\n",
       "      <td>2372737.53</td>\n",
       "      <td>0.0</td>\n",
       "      <td>0.0</td>\n",
       "      <td>0.0</td>\n",
       "      <td>1.0</td>\n",
       "      <td>malabe</td>\n",
       "      <td>per perch</td>\n",
       "      <td>440,000.00</td>\n",
       "      <td>...</td>\n",
       "      <td>773.0</td>\n",
       "      <td>2.0</td>\n",
       "      <td>602.0</td>\n",
       "      <td>9.0</td>\n",
       "      <td>1059.0</td>\n",
       "      <td>0.0</td>\n",
       "      <td>583.0</td>\n",
       "      <td>1.0</td>\n",
       "      <td>567.0</td>\n",
       "      <td>127.0</td>\n",
       "    </tr>\n",
       "    <tr>\n",
       "      <th>1</th>\n",
       "      <td>80.022840</td>\n",
       "      <td>6.910340</td>\n",
       "      <td>514669.88</td>\n",
       "      <td>0.0</td>\n",
       "      <td>0.0</td>\n",
       "      <td>1.0</td>\n",
       "      <td>0.0</td>\n",
       "      <td>ranala</td>\n",
       "      <td>total price</td>\n",
       "      <td>4,000,000.00</td>\n",
       "      <td>...</td>\n",
       "      <td>0.0</td>\n",
       "      <td>0.0</td>\n",
       "      <td>0.0</td>\n",
       "      <td>0.0</td>\n",
       "      <td>0.0</td>\n",
       "      <td>1.0</td>\n",
       "      <td>514.0</td>\n",
       "      <td>0.0</td>\n",
       "      <td>0.0</td>\n",
       "      <td>125.0</td>\n",
       "    </tr>\n",
       "    <tr>\n",
       "      <th>2</th>\n",
       "      <td>79.943102</td>\n",
       "      <td>6.882818</td>\n",
       "      <td>2562167.25</td>\n",
       "      <td>0.0</td>\n",
       "      <td>1.0</td>\n",
       "      <td>0.0</td>\n",
       "      <td>0.0</td>\n",
       "      <td>thalawathugoda</td>\n",
       "      <td>per perch</td>\n",
       "      <td>2,100,000.00</td>\n",
       "      <td>...</td>\n",
       "      <td>0.0</td>\n",
       "      <td>2.0</td>\n",
       "      <td>1150.0</td>\n",
       "      <td>10.0</td>\n",
       "      <td>695.0</td>\n",
       "      <td>1.0</td>\n",
       "      <td>1076.0</td>\n",
       "      <td>0.0</td>\n",
       "      <td>0.0</td>\n",
       "      <td>123.0</td>\n",
       "    </tr>\n",
       "    <tr>\n",
       "      <th>3</th>\n",
       "      <td>79.962091</td>\n",
       "      <td>6.890742</td>\n",
       "      <td>2048051.51</td>\n",
       "      <td>0.0</td>\n",
       "      <td>0.0</td>\n",
       "      <td>0.0</td>\n",
       "      <td>1.0</td>\n",
       "      <td>malabe</td>\n",
       "      <td>per perch</td>\n",
       "      <td>850,000.00</td>\n",
       "      <td>...</td>\n",
       "      <td>773.0</td>\n",
       "      <td>2.0</td>\n",
       "      <td>602.0</td>\n",
       "      <td>9.0</td>\n",
       "      <td>1059.0</td>\n",
       "      <td>0.0</td>\n",
       "      <td>583.0</td>\n",
       "      <td>1.0</td>\n",
       "      <td>567.0</td>\n",
       "      <td>127.0</td>\n",
       "    </tr>\n",
       "    <tr>\n",
       "      <th>4</th>\n",
       "      <td>79.913879</td>\n",
       "      <td>6.835342</td>\n",
       "      <td>2230222.57</td>\n",
       "      <td>0.0</td>\n",
       "      <td>0.0</td>\n",
       "      <td>1.0</td>\n",
       "      <td>0.0</td>\n",
       "      <td>maharagama</td>\n",
       "      <td>per perch</td>\n",
       "      <td>1,550,000.00</td>\n",
       "      <td>...</td>\n",
       "      <td>0.0</td>\n",
       "      <td>2.0</td>\n",
       "      <td>1261.0</td>\n",
       "      <td>14.0</td>\n",
       "      <td>521.0</td>\n",
       "      <td>2.0</td>\n",
       "      <td>1165.0</td>\n",
       "      <td>0.0</td>\n",
       "      <td>0.0</td>\n",
       "      <td>121.0</td>\n",
       "    </tr>\n",
       "  </tbody>\n",
       "</table>\n",
       "<p>5 rows × 81 columns</p>\n",
       "</div>"
      ],
      "text/plain": [
       "   longitude  latitude  Price per Perch  Agricultural  Commercial  \\\n",
       "0  79.980418  6.917638       2372737.53           0.0         0.0   \n",
       "1  80.022840  6.910340        514669.88           0.0         0.0   \n",
       "2  79.943102  6.882818       2562167.25           0.0         1.0   \n",
       "3  79.962091  6.890742       2048051.51           0.0         0.0   \n",
       "4  79.913879  6.835342       2230222.57           0.0         0.0   \n",
       "\n",
       "   Residential  Other         Address  Price_Scale Mentioned Price(Rs)  ...  \\\n",
       "0          0.0    1.0          malabe    per perch         440,000.00   ...   \n",
       "1          1.0    0.0          ranala  total price       4,000,000.00   ...   \n",
       "2          0.0    0.0  thalawathugoda    per perch       2,100,000.00   ...   \n",
       "3          0.0    1.0          malabe    per perch         850,000.00   ...   \n",
       "4          1.0    0.0      maharagama    per perch       1,550,000.00   ...   \n",
       "\n",
       "   police_mdist  post_office_count post_office_mdist  pharmacy_count  \\\n",
       "0         773.0                2.0             602.0             9.0   \n",
       "1           0.0                0.0               0.0             0.0   \n",
       "2           0.0                2.0            1150.0            10.0   \n",
       "3         773.0                2.0             602.0             9.0   \n",
       "4           0.0                2.0            1261.0            14.0   \n",
       "\n",
       "   pharmacy_mdist  movie_theater_count  movie_theater_mdist  library_count  \\\n",
       "0          1059.0                  0.0                583.0            1.0   \n",
       "1             0.0                  1.0                514.0            0.0   \n",
       "2           695.0                  1.0               1076.0            0.0   \n",
       "3          1059.0                  0.0                583.0            1.0   \n",
       "4           521.0                  2.0               1165.0            0.0   \n",
       "\n",
       "   library_mdist    Air  \n",
       "0          567.0  127.0  \n",
       "1            0.0  125.0  \n",
       "2            0.0  123.0  \n",
       "3          567.0  127.0  \n",
       "4            0.0  121.0  \n",
       "\n",
       "[5 rows x 81 columns]"
      ]
     },
     "execution_count": 3,
     "metadata": {},
     "output_type": "execute_result"
    }
   ],
   "source": [
    "df1 = pd.read_csv(\"datasets/P4_Data.csv\")\n",
    "df1.head()"
   ]
  },
  {
   "cell_type": "code",
   "execution_count": 4,
   "metadata": {},
   "outputs": [
    {
     "data": {
      "text/plain": [
       "(23124, 81)"
      ]
     },
     "execution_count": 4,
     "metadata": {},
     "output_type": "execute_result"
    }
   ],
   "source": [
    "df1.shape"
   ]
  },
  {
   "cell_type": "code",
   "execution_count": 5,
   "metadata": {},
   "outputs": [
    {
     "data": {
      "text/plain": [
       "Index(['longitude', 'latitude', 'Price per Perch', 'Agricultural',\n",
       "       'Commercial', 'Residential', 'Other', 'Address', 'Price_Scale',\n",
       "       'Mentioned Price(Rs)', 'Address_ID', 'Land_size(Perches)',\n",
       "       'Posted_Date_new', 'Distance from fort', 'count_govtschools_A',\n",
       "       'min_dist_govtschools_a', 'count_govtschools_B',\n",
       "       'min_dist_govtschools_b', 'count_semigovtschools',\n",
       "       'min_dist_semigovtschools', 'count_intlschools', 'min_dist_intlschools',\n",
       "       'count_uni', 'min_dist_uni', 'min_dist_nearest_express',\n",
       "       'min_dist_nearest_railway', 'min_dist_nearest_bank',\n",
       "       'count_banks_within_2km', 'min_dist_nearest_FinanceCompany',\n",
       "       'count_FinanceCompanies_within_2km', 'min_dist_nearest_Govt_Hospital',\n",
       "       'count_Govt_Hospitals', 'min_dist_nearest_Pvt_Hospital',\n",
       "       'count_Pvt_Hospital', 'min_dist_nearest_Pvt_Med_center',\n",
       "       'count_Pvt_Med_Centers', 'min_dist_nearest_Supermarket',\n",
       "       'count_Supermarkets_within2km', 'min_dist_nearest_Fuel_station',\n",
       "       'count_Fuel_Stations_within2km', 'bakery_count', 'bakery_mdist',\n",
       "       'bank_count', 'bank_mdist', 'bar_count', 'bar_mdist',\n",
       "       'bus_station_count', 'bus_station_mdist', 'clothing_store_count',\n",
       "       'clothing_store_mdist', 'doctor_count', 'doctor_mdist',\n",
       "       'gas_station_count', 'gas_station_mdist', 'gym_count', 'gym_mdist',\n",
       "       'hospital_count', 'hospital_mdist', 'university_count',\n",
       "       'university_mdist', 'train_station_count', 'train_station_mdist',\n",
       "       'supermarket_count', 'supermarket_mdist', 'store_count', 'store_mdist',\n",
       "       'school_count', 'school_mdist', 'restaurant_count', 'restaurant_mdist',\n",
       "       'police_count', 'police_mdist', 'post_office_count',\n",
       "       'post_office_mdist', 'pharmacy_count', 'pharmacy_mdist',\n",
       "       'movie_theater_count', 'movie_theater_mdist', 'library_count',\n",
       "       'library_mdist', 'Air'],\n",
       "      dtype='object')"
      ]
     },
     "execution_count": 5,
     "metadata": {},
     "output_type": "execute_result"
    }
   ],
   "source": [
    "df1.columns"
   ]
  },
  {
   "cell_type": "code",
   "execution_count": 6,
   "metadata": {
    "scrolled": false
   },
   "outputs": [
    {
     "data": {
      "text/plain": [
       "array(['malabe', 'ranala', 'thalawathugoda', 'maharagama', 'madapatha',\n",
       "       'mount lavinia', 'kirulapone', 'kesbewa', 'nugegoda', 'makandana',\n",
       "       'bope', 'nawala', 'kaduwela', 'bomiriya', 'athurugiriya',\n",
       "       'piliyandala', 'dehiwala', 'battaramulla', 'boralesgamuwa',\n",
       "       'hokandara', 'homagama', 'kahathuduwa', 'pitakotte', 'diyagama'],\n",
       "      dtype=object)"
      ]
     },
     "execution_count": 6,
     "metadata": {},
     "output_type": "execute_result"
    }
   ],
   "source": [
    "df1['Address'].unique()"
   ]
  },
  {
   "cell_type": "code",
   "execution_count": 7,
   "metadata": {},
   "outputs": [
    {
     "data": {
      "text/plain": [
       "Address\n",
       "ranala            2596\n",
       "makandana         1995\n",
       "kaduwela          1835\n",
       "kesbewa           1523\n",
       "piliyandala       1476\n",
       "battaramulla      1430\n",
       "malabe            1178\n",
       "nugegoda          1023\n",
       "thalawathugoda     864\n",
       "bomiriya           848\n",
       "madapatha          844\n",
       "bope               824\n",
       "nawala             817\n",
       "dehiwala           706\n",
       "homagama           681\n",
       "athurugiriya       675\n",
       "kahathuduwa        654\n",
       "mount lavinia      576\n",
       "diyagama           450\n",
       "pitakotte          450\n",
       "hokandara          428\n",
       "maharagama         425\n",
       "boralesgamuwa      424\n",
       "kirulapone         402\n",
       "Name: count, dtype: int64"
      ]
     },
     "execution_count": 7,
     "metadata": {},
     "output_type": "execute_result"
    }
   ],
   "source": [
    "df1['Address'].value_counts()"
   ]
  },
  {
   "cell_type": "markdown",
   "metadata": {},
   "source": [
    "<h2 style='color:blue'>Data Filter: Filter based on data counts higher than 50 for each city name</h2>"
   ]
  },
  {
   "cell_type": "code",
   "execution_count": 8,
   "metadata": {},
   "outputs": [
    {
     "name": "stdout",
     "output_type": "stream",
     "text": [
      "Number of rows: 23124\n"
     ]
    },
    {
     "data": {
      "text/plain": [
       "Address\n",
       "ranala            2596\n",
       "makandana         1995\n",
       "kaduwela          1835\n",
       "kesbewa           1523\n",
       "piliyandala       1476\n",
       "battaramulla      1430\n",
       "malabe            1178\n",
       "nugegoda          1023\n",
       "thalawathugoda     864\n",
       "bomiriya           848\n",
       "madapatha          844\n",
       "bope               824\n",
       "nawala             817\n",
       "dehiwala           706\n",
       "homagama           681\n",
       "athurugiriya       675\n",
       "kahathuduwa        654\n",
       "mount lavinia      576\n",
       "diyagama           450\n",
       "pitakotte          450\n",
       "hokandara          428\n",
       "maharagama         425\n",
       "boralesgamuwa      424\n",
       "kirulapone         402\n",
       "Name: count, dtype: int64"
      ]
     },
     "execution_count": 8,
     "metadata": {},
     "output_type": "execute_result"
    }
   ],
   "source": [
    "# Assuming df1 is your DataFrame\n",
    "address_counts = df1['Address'].value_counts()\n",
    "filtered_addresses = address_counts[address_counts >= 50].index\n",
    "filtered_df = df1[df1['Address'].isin(filtered_addresses)]\n",
    "filtered_df['Address'].value_counts()\n",
    "row_count = filtered_df.shape[0]\n",
    "print(\"Number of rows:\", row_count)\n",
    "filtered_df['Address'].value_counts()\n",
    "\n"
   ]
  },
  {
   "cell_type": "markdown",
   "metadata": {},
   "source": [
    "**Drop features that are not required to build our model**"
   ]
  },
  {
   "cell_type": "code",
   "execution_count": 9,
   "metadata": {
    "scrolled": false
   },
   "outputs": [
    {
     "data": {
      "text/plain": [
       "(23124, 77)"
      ]
     },
     "execution_count": 9,
     "metadata": {},
     "output_type": "execute_result"
    }
   ],
   "source": [
    "df2 = df1.drop(['Land_size(Perches)', 'Price_Scale', 'Distance from fort', 'Mentioned Price(Rs)'], axis='columns')\n",
    "df2.shape"
   ]
  },
  {
   "cell_type": "markdown",
   "metadata": {},
   "source": [
    "<h2 style='color:blue'>Data Cleaning</h2>"
   ]
  },
  {
   "cell_type": "markdown",
   "metadata": {},
   "source": [
    "**Handle NA values**"
   ]
  },
  {
   "cell_type": "code",
   "execution_count": 10,
   "metadata": {
    "scrolled": false
   },
   "outputs": [
    {
     "data": {
      "text/plain": [
       "longitude              0\n",
       "latitude               0\n",
       "Price per Perch        0\n",
       "Agricultural           0\n",
       "Commercial             0\n",
       "                      ..\n",
       "movie_theater_count    0\n",
       "movie_theater_mdist    0\n",
       "library_count          0\n",
       "library_mdist          0\n",
       "Air                    0\n",
       "Length: 77, dtype: int64"
      ]
     },
     "execution_count": 10,
     "metadata": {},
     "output_type": "execute_result"
    }
   ],
   "source": [
    "df2.isnull().sum()"
   ]
  },
  {
   "cell_type": "code",
   "execution_count": 11,
   "metadata": {},
   "outputs": [
    {
     "data": {
      "text/plain": [
       "(23124, 77)"
      ]
     },
     "execution_count": 11,
     "metadata": {},
     "output_type": "execute_result"
    }
   ],
   "source": [
    "df2.shape"
   ]
  },
  {
   "cell_type": "code",
   "execution_count": 12,
   "metadata": {},
   "outputs": [
    {
     "data": {
      "text/plain": [
       "longitude              0\n",
       "latitude               0\n",
       "Price per Perch        0\n",
       "Agricultural           0\n",
       "Commercial             0\n",
       "                      ..\n",
       "movie_theater_count    0\n",
       "movie_theater_mdist    0\n",
       "library_count          0\n",
       "library_mdist          0\n",
       "Air                    0\n",
       "Length: 77, dtype: int64"
      ]
     },
     "execution_count": 12,
     "metadata": {},
     "output_type": "execute_result"
    }
   ],
   "source": [
    "df3 = df2.dropna()\n",
    "df3.isnull().sum()"
   ]
  },
  {
   "cell_type": "code",
   "execution_count": 13,
   "metadata": {},
   "outputs": [
    {
     "data": {
      "text/plain": [
       "(23124, 77)"
      ]
     },
     "execution_count": 13,
     "metadata": {},
     "output_type": "execute_result"
    }
   ],
   "source": [
    "df3.shape"
   ]
  },
  {
   "cell_type": "code",
   "execution_count": 14,
   "metadata": {},
   "outputs": [
    {
     "data": {
      "text/html": [
       "<div>\n",
       "<style scoped>\n",
       "    .dataframe tbody tr th:only-of-type {\n",
       "        vertical-align: middle;\n",
       "    }\n",
       "\n",
       "    .dataframe tbody tr th {\n",
       "        vertical-align: top;\n",
       "    }\n",
       "\n",
       "    .dataframe thead th {\n",
       "        text-align: right;\n",
       "    }\n",
       "</style>\n",
       "<table border=\"1\" class=\"dataframe\">\n",
       "  <thead>\n",
       "    <tr style=\"text-align: right;\">\n",
       "      <th></th>\n",
       "      <th>longitude</th>\n",
       "      <th>latitude</th>\n",
       "      <th>Price per Perch</th>\n",
       "      <th>Agricultural</th>\n",
       "      <th>Commercial</th>\n",
       "      <th>Residential</th>\n",
       "      <th>Other</th>\n",
       "      <th>Address</th>\n",
       "      <th>Address_ID</th>\n",
       "      <th>Posted_Date_new</th>\n",
       "      <th>...</th>\n",
       "      <th>police_mdist</th>\n",
       "      <th>post_office_count</th>\n",
       "      <th>post_office_mdist</th>\n",
       "      <th>pharmacy_count</th>\n",
       "      <th>pharmacy_mdist</th>\n",
       "      <th>movie_theater_count</th>\n",
       "      <th>movie_theater_mdist</th>\n",
       "      <th>library_count</th>\n",
       "      <th>library_mdist</th>\n",
       "      <th>Air</th>\n",
       "    </tr>\n",
       "  </thead>\n",
       "  <tbody>\n",
       "    <tr>\n",
       "      <th>0</th>\n",
       "      <td>79.980418</td>\n",
       "      <td>6.917638</td>\n",
       "      <td>2372737.53</td>\n",
       "      <td>0.0</td>\n",
       "      <td>0.0</td>\n",
       "      <td>0.0</td>\n",
       "      <td>1.0</td>\n",
       "      <td>malabe</td>\n",
       "      <td>12.0</td>\n",
       "      <td>07/15/2021</td>\n",
       "      <td>...</td>\n",
       "      <td>773.0</td>\n",
       "      <td>2.0</td>\n",
       "      <td>602.0</td>\n",
       "      <td>9.0</td>\n",
       "      <td>1059.0</td>\n",
       "      <td>0.0</td>\n",
       "      <td>583.0</td>\n",
       "      <td>1.0</td>\n",
       "      <td>567.0</td>\n",
       "      <td>127.0</td>\n",
       "    </tr>\n",
       "    <tr>\n",
       "      <th>1</th>\n",
       "      <td>80.022840</td>\n",
       "      <td>6.910340</td>\n",
       "      <td>514669.88</td>\n",
       "      <td>0.0</td>\n",
       "      <td>0.0</td>\n",
       "      <td>1.0</td>\n",
       "      <td>0.0</td>\n",
       "      <td>ranala</td>\n",
       "      <td>1.0</td>\n",
       "      <td>11/13/2021</td>\n",
       "      <td>...</td>\n",
       "      <td>0.0</td>\n",
       "      <td>0.0</td>\n",
       "      <td>0.0</td>\n",
       "      <td>0.0</td>\n",
       "      <td>0.0</td>\n",
       "      <td>1.0</td>\n",
       "      <td>514.0</td>\n",
       "      <td>0.0</td>\n",
       "      <td>0.0</td>\n",
       "      <td>125.0</td>\n",
       "    </tr>\n",
       "    <tr>\n",
       "      <th>2</th>\n",
       "      <td>79.943102</td>\n",
       "      <td>6.882818</td>\n",
       "      <td>2562167.25</td>\n",
       "      <td>0.0</td>\n",
       "      <td>1.0</td>\n",
       "      <td>0.0</td>\n",
       "      <td>0.0</td>\n",
       "      <td>thalawathugoda</td>\n",
       "      <td>10.0</td>\n",
       "      <td>10/01/2023</td>\n",
       "      <td>...</td>\n",
       "      <td>0.0</td>\n",
       "      <td>2.0</td>\n",
       "      <td>1150.0</td>\n",
       "      <td>10.0</td>\n",
       "      <td>695.0</td>\n",
       "      <td>1.0</td>\n",
       "      <td>1076.0</td>\n",
       "      <td>0.0</td>\n",
       "      <td>0.0</td>\n",
       "      <td>123.0</td>\n",
       "    </tr>\n",
       "    <tr>\n",
       "      <th>3</th>\n",
       "      <td>79.962091</td>\n",
       "      <td>6.890742</td>\n",
       "      <td>2048051.51</td>\n",
       "      <td>0.0</td>\n",
       "      <td>0.0</td>\n",
       "      <td>0.0</td>\n",
       "      <td>1.0</td>\n",
       "      <td>malabe</td>\n",
       "      <td>12.0</td>\n",
       "      <td>10/04/2021</td>\n",
       "      <td>...</td>\n",
       "      <td>773.0</td>\n",
       "      <td>2.0</td>\n",
       "      <td>602.0</td>\n",
       "      <td>9.0</td>\n",
       "      <td>1059.0</td>\n",
       "      <td>0.0</td>\n",
       "      <td>583.0</td>\n",
       "      <td>1.0</td>\n",
       "      <td>567.0</td>\n",
       "      <td>127.0</td>\n",
       "    </tr>\n",
       "    <tr>\n",
       "      <th>4</th>\n",
       "      <td>79.913879</td>\n",
       "      <td>6.835342</td>\n",
       "      <td>2230222.57</td>\n",
       "      <td>0.0</td>\n",
       "      <td>0.0</td>\n",
       "      <td>1.0</td>\n",
       "      <td>0.0</td>\n",
       "      <td>maharagama</td>\n",
       "      <td>21.0</td>\n",
       "      <td>06/19/2022</td>\n",
       "      <td>...</td>\n",
       "      <td>0.0</td>\n",
       "      <td>2.0</td>\n",
       "      <td>1261.0</td>\n",
       "      <td>14.0</td>\n",
       "      <td>521.0</td>\n",
       "      <td>2.0</td>\n",
       "      <td>1165.0</td>\n",
       "      <td>0.0</td>\n",
       "      <td>0.0</td>\n",
       "      <td>121.0</td>\n",
       "    </tr>\n",
       "  </tbody>\n",
       "</table>\n",
       "<p>5 rows × 77 columns</p>\n",
       "</div>"
      ],
      "text/plain": [
       "   longitude  latitude  Price per Perch  Agricultural  Commercial  \\\n",
       "0  79.980418  6.917638       2372737.53           0.0         0.0   \n",
       "1  80.022840  6.910340        514669.88           0.0         0.0   \n",
       "2  79.943102  6.882818       2562167.25           0.0         1.0   \n",
       "3  79.962091  6.890742       2048051.51           0.0         0.0   \n",
       "4  79.913879  6.835342       2230222.57           0.0         0.0   \n",
       "\n",
       "   Residential  Other         Address  Address_ID Posted_Date_new  ...  \\\n",
       "0          0.0    1.0          malabe        12.0      07/15/2021  ...   \n",
       "1          1.0    0.0          ranala         1.0      11/13/2021  ...   \n",
       "2          0.0    0.0  thalawathugoda        10.0      10/01/2023  ...   \n",
       "3          0.0    1.0          malabe        12.0      10/04/2021  ...   \n",
       "4          1.0    0.0      maharagama        21.0      06/19/2022  ...   \n",
       "\n",
       "   police_mdist  post_office_count  post_office_mdist  pharmacy_count  \\\n",
       "0         773.0                2.0              602.0             9.0   \n",
       "1           0.0                0.0                0.0             0.0   \n",
       "2           0.0                2.0             1150.0            10.0   \n",
       "3         773.0                2.0              602.0             9.0   \n",
       "4           0.0                2.0             1261.0            14.0   \n",
       "\n",
       "   pharmacy_mdist  movie_theater_count  movie_theater_mdist  library_count  \\\n",
       "0          1059.0                  0.0                583.0            1.0   \n",
       "1             0.0                  1.0                514.0            0.0   \n",
       "2           695.0                  1.0               1076.0            0.0   \n",
       "3          1059.0                  0.0                583.0            1.0   \n",
       "4           521.0                  2.0               1165.0            0.0   \n",
       "\n",
       "   library_mdist    Air  \n",
       "0          567.0  127.0  \n",
       "1            0.0  125.0  \n",
       "2            0.0  123.0  \n",
       "3          567.0  127.0  \n",
       "4            0.0  121.0  \n",
       "\n",
       "[5 rows x 77 columns]"
      ]
     },
     "execution_count": 14,
     "metadata": {},
     "output_type": "execute_result"
    }
   ],
   "source": [
    "df3.head()"
   ]
  }
 ],
 "metadata": {
  "kernelspec": {
   "display_name": "Python 3",
   "language": "python",
   "name": "python3"
  },
  "language_info": {
   "codemirror_mode": {
    "name": "ipython",
    "version": 3
   },
   "file_extension": ".py",
   "mimetype": "text/x-python",
   "name": "python",
   "nbconvert_exporter": "python",
   "pygments_lexer": "ipython3",
   "version": "3.12.2"
  }
 },
 "nbformat": 4,
 "nbformat_minor": 2
}
